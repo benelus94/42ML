{
 "cells": [
  {
   "cell_type": "code",
   "execution_count": 5,
   "id": "69f823c7",
   "metadata": {},
   "outputs": [
    {
     "name": "stdout",
     "output_type": "stream",
     "text": [
      "[array([[  30. ,  450. ],\n",
      "       [  29. ,  363. ],\n",
      "       [  29.7,  500. ],\n",
      "       [  11.3,    8.7],\n",
      "       [  11.8,   10. ],\n",
      "       [  13. ,   12.2],\n",
      "       [  32. ,  600. ],\n",
      "       [  30.7,  500. ],\n",
      "       [  33. ,  700. ],\n",
      "       [  35. ,  700. ],\n",
      "       [  41. ,  975. ],\n",
      "       [  38.5,  920. ],\n",
      "       [  25.4,  242. ],\n",
      "       [  12. ,    9.8],\n",
      "       [  39.5,  925. ],\n",
      "       [  29.7,  450. ],\n",
      "       [  37. , 1000. ],\n",
      "       [  31. ,  500. ],\n",
      "       [  10.5,    7.5],\n",
      "       [  26.3,  290. ],\n",
      "       [  34. ,  685. ],\n",
      "       [  26.5,  340. ],\n",
      "       [  10.6,    7. ],\n",
      "       [   9.8,    6.7],\n",
      "       [  35. ,  680. ],\n",
      "       [  11.2,    9.8],\n",
      "       [  31. ,  475. ],\n",
      "       [  34.5,  620. ],\n",
      "       [  33.5,  610. ],\n",
      "       [  15. ,   19.9],\n",
      "       [  34. ,  575. ],\n",
      "       [  30. ,  390. ],\n",
      "       [  11.8,    9.9],\n",
      "       [  32. ,  600. ],\n",
      "       [  36. ,  850. ],\n",
      "       [  11. ,    9.7]]), array([[ 32. , 340. ],\n",
      "       [ 12.4,  13.4],\n",
      "       [ 14.3,  19.7],\n",
      "       [ 12.2,  12.2],\n",
      "       [ 33. , 700. ],\n",
      "       [ 36. , 714. ],\n",
      "       [ 35. , 720. ],\n",
      "       [ 35. , 725. ],\n",
      "       [ 38.5, 955. ],\n",
      "       [ 33.5, 650. ],\n",
      "       [ 31.5, 500. ],\n",
      "       [ 29. , 430. ],\n",
      "       [ 41. , 950. ]]), array([1., 1., 1., 0., 0., 0., 1., 1., 1., 1., 1., 1., 1., 0., 1., 1., 1.,\n",
      "       1., 0., 1., 1., 1., 0., 0., 1., 0., 1., 1., 1., 0., 1., 1., 0., 1.,\n",
      "       1., 0.]), array([1., 0., 0., 0., 1., 1., 1., 1., 1., 1., 1., 1., 1.])]\n"
     ]
    }
   ],
   "source": [
    "import numpy as np\n",
    "from sklearn.model_selection import train_test_split\n",
    "\n",
    "bream_length = [25.4, 26.3, 26.5, 29.0, 29.0, 29.7, 29.7, 30.0, 30.0, 30.7, 31.0, 31.0, \n",
    "                31.5, 32.0, 32.0, 32.0, 33.0, 33.0, 33.5, 33.5, 34.0, 34.0, 34.5, 35.0, \n",
    "                35.0, 35.0, 35.0, 36.0, 36.0, 37.0, 38.5, 38.5, 39.5, 41.0, 41.0]\n",
    "bream_weight = [242.0, 290.0, 340.0, 363.0, 430.0, 450.0, 500.0, 390.0, 450.0, 500.0, 475.0, 500.0, \n",
    "                500.0, 340.0, 600.0, 600.0, 700.0, 700.0, 610.0, 650.0, 575.0, 685.0, 620.0, 680.0, \n",
    "                700.0, 725.0, 720.0, 714.0, 850.0, 1000.0, 920.0, 955.0, 925.0, 975.0, 950.0]\n",
    "\n",
    "smelt_length = [9.8, 10.5, 10.6, 11.0, 11.2, 11.3, 11.8, 11.8, 12.0, 12.2, 12.4, 13.0, 14.3, 15.0]\n",
    "smelt_weight = [6.7, 7.5, 7.0, 9.7, 9.8, 8.7, 10.0, 9.9, 9.8, 12.2, 13.4, 12.2, 19.7, 19.9]\n",
    "\n",
    "fish_length = bream_length + smelt_length\n",
    "fish_weight = bream_weight + smelt_weight\n",
    "\n",
    "fish_data = np.column_stack((fish_length, fish_weight))\n",
    "fish_target = np.concatenate((np.ones(35), np.zeros(14)))\n",
    "\n",
    "train_input, test_input, train_target, test_target = train_test_split(fish_data, fish_target, random_state = 42)\n"
   ]
  },
  {
   "cell_type": "code",
   "execution_count": 9,
   "id": "061729c3",
   "metadata": {},
   "outputs": [
    {
     "data": {
      "text/plain": [
       "1.0"
      ]
     },
     "execution_count": 9,
     "metadata": {},
     "output_type": "execute_result"
    }
   ],
   "source": [
    "from sklearn.neighbors import KNeighborsClassifier\n",
    "\n",
    "kn = KNeighborsClassifier()\n",
    "kn.fit(train_input, train_target)\n",
    "kn.score(test_input, test_target)"
   ]
  },
  {
   "cell_type": "code",
   "execution_count": 13,
   "id": "411d8bf7",
   "metadata": {},
   "outputs": [
    {
     "data": {
      "image/png": "[encoded data removed]",
      "text/plain": [
       "<Figure size 432x288 with 1 Axes>"
      ]
     },
     "metadata": {
      "needs_background": "light"
     },
     "output_type": "display_data"
    }
   ],
   "source": [
    "import matplotlib.pyplot as plt\n",
    "\n",
    "d, i = kn.kneighbors([[25, 150]])\n",
    "\n",
    "plt.scatter(train_input[:, 0], train_input[:, 1])\n",
    "plt.scatter(25, 150, marker = '^')\n",
    "plt.scatter(train_input[i, 0], train_input[i, 1], marker='D')\n",
    "plt.xlabel('length')\n",
    "plt.ylabel('weight')\n",
    "plt.show()"
   ]
  },
  {
   "cell_type": "code",
   "execution_count": 15,
   "id": "6dfed696",
   "metadata": {},
   "outputs": [],
   "source": [
    "mean = np.mean(train_input, axis=0)\n",
    "std = np.std(train_input, axis=0)\n",
    "\n",
    "train_scaled = (train_input - mean) / std\n"
   ]
  },
  {
   "cell_type": "code",
   "execution_count": 17,
   "id": "c37a1be8",
   "metadata": {},
   "outputs": [
    {
     "data": {
      "image/png": "[encoded data removed]",
      "text/plain": [
       "<Figure size 432x288 with 1 Axes>"
      ]
     },
     "metadata": {
      "needs_background": "light"
     },
     "output_type": "display_data"
    }
   ],
   "source": [
    "new = ([25, 150] - mean) / std\n",
    "plt.scatter(train_scaled[:,0], train_scaled[:, 1])\n",
    "plt.scatter(new[0], new[1], marker='^')\n",
    "plt.xlabel('length')\n",
    "plt.ylabel('weight')\n",
    "plt.show()"
   ]
  },
  {
   "cell_type": "code",
   "execution_count": 20,
   "id": "1dde4939",
   "metadata": {},
   "outputs": [
    {
     "name": "stdout",
     "output_type": "stream",
     "text": [
      "[1.]\n"
     ]
    }
   ],
   "source": [
    "kn.fit(train_scaled, train_target)\n",
    "test_scaled = (test_input - mean) / std\n",
    "kn.score(test_scaled, test_target)\n",
    "\n",
    "print(kn.predict([new]))"
   ]
  },
  {
   "cell_type": "code",
   "execution_count": 21,
   "id": "eefc4f5e",
   "metadata": {},
   "outputs": [
    {
     "data": {
      "image/png": "[encoded data removed]",
      "text/plain": [
       "<Figure size 432x288 with 1 Axes>"
      ]
     },
     "metadata": {
      "needs_background": "light"
     },
     "output_type": "display_data"
    }
   ],
   "source": [
    "d, i = kn.kneighbors([new])\n",
    "plt.scatter(train_scaled[:,0], train_scaled[:, 1])\n",
    "plt.scatter(new[0], new[1], marker='^')\n",
    "plt.scatter(train_scaled[i, 0], train_scaled[i, 1], marker='D')\n",
    "plt.xlabel('length')\n",
    "plt.ylabel('weight')\n",
    "plt.show()"
   ]
  },
  {
   "cell_type": "code",
   "execution_count": null,
   "id": "03ee6bba",
   "metadata": {},
   "outputs": [],
   "source": []
  }
 ],
 "metadata": {
  "kernelspec": {
   "display_name": "tf-gpu",
   "language": "python",
   "name": "tf-gpu"
  },
  "language_info": {
   "codemirror_mode": {
    "name": "ipython",
    "version": 3
   },
   "file_extension": ".py",
   "mimetype": "text/x-python",
   "name": "python",
   "nbconvert_exporter": "python",
   "pygments_lexer": "ipython3",
   "version": "3.8.8"
  }
 },
 "nbformat": 4,
 "nbformat_minor": 5
}
